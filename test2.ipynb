{
 "cells": [
  {
   "cell_type": "code",
   "execution_count": 39,
   "metadata": {},
   "outputs": [
    {
     "name": "stdout",
     "output_type": "stream",
     "text": [
      "200\n",
      "{\"student_uuid\":\"01HH6ZV5JYA6HPM3RR5EQCM3ES\"}\n"
     ]
    }
   ],
   "source": [
    "import requests\n",
    "\n",
    "res = requests.post(\"https://pbl-gairon-test.calloc134personal.workers.dev/students\",\n",
    "                    json={\"name\": \"福間　水志\", \"email\": \"calloc134personal@gmail.com\", \"password\": \"test\",\n",
    "                          \"student_id\": 221200000, \"device_id\": \"test\"})\n",
    "\n",
    "print(res.status_code)\n",
    "print(res.text)"
   ]
  },
  {
   "cell_type": "code",
   "execution_count": null,
   "metadata": {},
   "outputs": [],
   "source": [
    "import requests\n",
    "\n",
    "res = requests.post(\"https://pbl-gairon-test.calloc134personal.workers.dev/students/login\",\n",
    "                    json={\"student_id\": 221200000, \"password\": \"test\"})\n",
    "\n",
    "print(res.status_code)\n",
    "print(res.text)\n",
    "\n",
    "\n",
    "jwt = res.headers[\"Authorization\"].split(\" \")[1]\n",
    "print(jwt)"
   ]
  },
  {
   "cell_type": "code",
   "execution_count": null,
   "metadata": {},
   "outputs": [],
   "source": [
    "import requests\n",
    "\n",
    "res = requests.get(\"https://pbl-gairon-test.calloc134personal.workers.dev/students\",\n",
    "                    headers={\"Authorization\": \"Bearer \" + jwt})\n",
    "\n",
    "print(res.status_code)\n",
    "print(res.text)"
   ]
  },
  {
   "cell_type": "code",
   "execution_count": null,
   "metadata": {},
   "outputs": [],
   "source": [
    "import requests\n",
    "\n",
    "res = requests.get(\"https://pbl-gairon-test.calloc134personal.workers.dev/teachers\", \n",
    "                   headers={\"Authorization\": \"Bearer \" + jwt})\n",
    "\n",
    "print(res.status_code)\n",
    "print(res.text)"
   ]
  },
  {
   "cell_type": "code",
   "execution_count": null,
   "metadata": {},
   "outputs": [],
   "source": [
    "import requests\n",
    "\n",
    "res = requests.get(\"https://pbl-gairon-test.calloc134personal.workers.dev/students/me\", \n",
    "                   headers={\"Authorization\": \"Bearer \" + jwt})\n",
    "\n",
    "print(res.status_code)\n",
    "print(res.text)"
   ]
  },
  {
   "cell_type": "code",
   "execution_count": null,
   "metadata": {},
   "outputs": [],
   "source": [
    "import requests\n",
    "\n",
    "res = requests.post(\"https://pbl-gairon-test.calloc134personal.workers.dev/teachers\",\n",
    "                    json={\"name\": \"学長　良助\", \"password\": \"test\",\n",
    "                          \"teacher_id\": 15000,})\n",
    "\n",
    "print(res.status_code)\n",
    "print(res.text)"
   ]
  },
  {
   "cell_type": "code",
   "execution_count": null,
   "metadata": {},
   "outputs": [],
   "source": [
    "import requests\n",
    "\n",
    "res = requests.post(\"https://pbl-gairon-test.calloc134personal.workers.dev/teachers/login\",\n",
    "                    json={\"teacher_id\": 15000, \"password\": \"test\"})\n",
    "print(res.status_code)\n",
    "print(res.text)\n"
   ]
  },
  {
   "cell_type": "code",
   "execution_count": null,
   "metadata": {},
   "outputs": [],
   "source": []
  }
 ],
 "metadata": {
  "kernelspec": {
   "display_name": "Python 3",
   "language": "python",
   "name": "python3"
  },
  "language_info": {
   "codemirror_mode": {
    "name": "ipython",
    "version": 3
   },
   "file_extension": ".py",
   "mimetype": "text/x-python",
   "name": "python",
   "nbconvert_exporter": "python",
   "pygments_lexer": "ipython3",
   "version": "3.10.5"
  }
 },
 "nbformat": 4,
 "nbformat_minor": 2
}
